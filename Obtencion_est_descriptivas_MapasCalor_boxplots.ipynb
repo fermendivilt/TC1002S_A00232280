{
 "cells": [
  {
   "cell_type": "markdown",
   "metadata": {},
   "source": [
    "# Obtención de estadisticas descriptivas, mapas de calor y boxplots\n",
    "\n",
    "## Fernando de Jesús Mendivil Terminel - A0023220"
   ]
  },
  {
   "cell_type": "markdown",
   "metadata": {},
   "source": [
    "Para ejecutar esto, solo se necesita darle al botón \"Run\", sin dar click en ninguna linea."
   ]
  },
  {
   "cell_type": "markdown",
   "metadata": {},
   "source": [
    "### Librerías usadas:"
   ]
  },
  {
   "cell_type": "code",
   "execution_count": 4,
   "metadata": {},
   "outputs": [],
   "source": [
    "import pandas as pd\n",
    "import seaborn as sns\n",
    "import numpy as np\n",
    "import matplotlib.pyplot as plt\n",
    "from collections import Counter"
   ]
  },
  {
   "cell_type": "markdown",
   "metadata": {},
   "source": [
    "### 1. Guardar el archivo (con los datos a usar) en una variable"
   ]
  },
  {
   "cell_type": "code",
   "execution_count": 5,
   "metadata": {},
   "outputs": [
    {
     "name": "stdout",
     "output_type": "stream",
     "text": [
      "shape:  (308, 5)\n"
     ]
    },
    {
     "data": {
      "text/html": [
       "<div>\n",
       "<style scoped>\n",
       "    .dataframe tbody tr th:only-of-type {\n",
       "        vertical-align: middle;\n",
       "    }\n",
       "\n",
       "    .dataframe tbody tr th {\n",
       "        vertical-align: top;\n",
       "    }\n",
       "\n",
       "    .dataframe thead th {\n",
       "        text-align: right;\n",
       "    }\n",
       "</style>\n",
       "<table border=\"1\" class=\"dataframe\">\n",
       "  <thead>\n",
       "    <tr style=\"text-align: right;\">\n",
       "      <th></th>\n",
       "      <th>Carat</th>\n",
       "      <th>Colour</th>\n",
       "      <th>Clarity</th>\n",
       "      <th>Lab</th>\n",
       "      <th>Price ($US)</th>\n",
       "    </tr>\n",
       "  </thead>\n",
       "  <tbody>\n",
       "    <tr>\n",
       "      <th>0</th>\n",
       "      <td>0.30</td>\n",
       "      <td>1</td>\n",
       "      <td>5</td>\n",
       "      <td>1</td>\n",
       "      <td>911.4</td>\n",
       "    </tr>\n",
       "    <tr>\n",
       "      <th>1</th>\n",
       "      <td>0.30</td>\n",
       "      <td>2</td>\n",
       "      <td>4</td>\n",
       "      <td>1</td>\n",
       "      <td>1057.0</td>\n",
       "    </tr>\n",
       "    <tr>\n",
       "      <th>2</th>\n",
       "      <td>0.30</td>\n",
       "      <td>4</td>\n",
       "      <td>2</td>\n",
       "      <td>1</td>\n",
       "      <td>1057.0</td>\n",
       "    </tr>\n",
       "    <tr>\n",
       "      <th>3</th>\n",
       "      <td>0.30</td>\n",
       "      <td>4</td>\n",
       "      <td>4</td>\n",
       "      <td>1</td>\n",
       "      <td>882.0</td>\n",
       "    </tr>\n",
       "    <tr>\n",
       "      <th>4</th>\n",
       "      <td>0.31</td>\n",
       "      <td>1</td>\n",
       "      <td>4</td>\n",
       "      <td>1</td>\n",
       "      <td>1148.7</td>\n",
       "    </tr>\n",
       "    <tr>\n",
       "      <th>5</th>\n",
       "      <td>0.31</td>\n",
       "      <td>2</td>\n",
       "      <td>4</td>\n",
       "      <td>1</td>\n",
       "      <td>1088.5</td>\n",
       "    </tr>\n",
       "    <tr>\n",
       "      <th>6</th>\n",
       "      <td>0.31</td>\n",
       "      <td>3</td>\n",
       "      <td>4</td>\n",
       "      <td>1</td>\n",
       "      <td>998.9</td>\n",
       "    </tr>\n",
       "    <tr>\n",
       "      <th>7</th>\n",
       "      <td>0.31</td>\n",
       "      <td>4</td>\n",
       "      <td>3</td>\n",
       "      <td>1</td>\n",
       "      <td>998.9</td>\n",
       "    </tr>\n",
       "    <tr>\n",
       "      <th>8</th>\n",
       "      <td>0.31</td>\n",
       "      <td>5</td>\n",
       "      <td>5</td>\n",
       "      <td>1</td>\n",
       "      <td>788.2</td>\n",
       "    </tr>\n",
       "    <tr>\n",
       "      <th>9</th>\n",
       "      <td>0.31</td>\n",
       "      <td>6</td>\n",
       "      <td>4</td>\n",
       "      <td>1</td>\n",
       "      <td>788.2</td>\n",
       "    </tr>\n",
       "  </tbody>\n",
       "</table>\n",
       "</div>"
      ],
      "text/plain": [
       "   Carat  Colour  Clarity  Lab  Price ($US)\n",
       "0   0.30       1        5    1        911.4\n",
       "1   0.30       2        4    1       1057.0\n",
       "2   0.30       4        2    1       1057.0\n",
       "3   0.30       4        4    1        882.0\n",
       "4   0.31       1        4    1       1148.7\n",
       "5   0.31       2        4    1       1088.5\n",
       "6   0.31       3        4    1        998.9\n",
       "7   0.31       4        3    1        998.9\n",
       "8   0.31       5        5    1        788.2\n",
       "9   0.31       6        4    1        788.2"
      ]
     },
     "execution_count": 5,
     "metadata": {},
     "output_type": "execute_result"
    }
   ],
   "source": [
    "# Leer los datos a analizar\n",
    "diamantes = pd.read_csv(\"Diamonds are forever.csv\", na_values=':')\n",
    "print('shape: ', diamantes.shape)\n",
    "diamantes.head(10)"
   ]
  },
  {
   "cell_type": "code",
   "execution_count": 12,
   "metadata": {},
   "outputs": [
    {
     "data": {
      "text/html": [
       "<div>\n",
       "<style scoped>\n",
       "    .dataframe tbody tr th:only-of-type {\n",
       "        vertical-align: middle;\n",
       "    }\n",
       "\n",
       "    .dataframe tbody tr th {\n",
       "        vertical-align: top;\n",
       "    }\n",
       "\n",
       "    .dataframe thead th {\n",
       "        text-align: right;\n",
       "    }\n",
       "</style>\n",
       "<table border=\"1\" class=\"dataframe\">\n",
       "  <thead>\n",
       "    <tr style=\"text-align: right;\">\n",
       "      <th></th>\n",
       "      <th>Carat</th>\n",
       "      <th>Colour</th>\n",
       "      <th>Clarity</th>\n",
       "      <th>Lab</th>\n",
       "      <th>Price ($US)</th>\n",
       "    </tr>\n",
       "  </thead>\n",
       "  <tbody>\n",
       "    <tr>\n",
       "      <th>298</th>\n",
       "      <td>1.01</td>\n",
       "      <td>4</td>\n",
       "      <td>3</td>\n",
       "      <td>3</td>\n",
       "      <td>6995.1</td>\n",
       "    </tr>\n",
       "    <tr>\n",
       "      <th>299</th>\n",
       "      <td>1.01</td>\n",
       "      <td>4</td>\n",
       "      <td>5</td>\n",
       "      <td>3</td>\n",
       "      <td>6505.1</td>\n",
       "    </tr>\n",
       "    <tr>\n",
       "      <th>300</th>\n",
       "      <td>1.01</td>\n",
       "      <td>5</td>\n",
       "      <td>3</td>\n",
       "      <td>3</td>\n",
       "      <td>6603.1</td>\n",
       "    </tr>\n",
       "    <tr>\n",
       "      <th>301</th>\n",
       "      <td>1.01</td>\n",
       "      <td>5</td>\n",
       "      <td>4</td>\n",
       "      <td>3</td>\n",
       "      <td>6407.1</td>\n",
       "    </tr>\n",
       "    <tr>\n",
       "      <th>302</th>\n",
       "      <td>1.01</td>\n",
       "      <td>6</td>\n",
       "      <td>2</td>\n",
       "      <td>3</td>\n",
       "      <td>6211.1</td>\n",
       "    </tr>\n",
       "    <tr>\n",
       "      <th>303</th>\n",
       "      <td>1.01</td>\n",
       "      <td>6</td>\n",
       "      <td>4</td>\n",
       "      <td>3</td>\n",
       "      <td>5722.5</td>\n",
       "    </tr>\n",
       "    <tr>\n",
       "      <th>304</th>\n",
       "      <td>1.02</td>\n",
       "      <td>3</td>\n",
       "      <td>3</td>\n",
       "      <td>3</td>\n",
       "      <td>7557.2</td>\n",
       "    </tr>\n",
       "    <tr>\n",
       "      <th>305</th>\n",
       "      <td>1.06</td>\n",
       "      <td>5</td>\n",
       "      <td>3</td>\n",
       "      <td>3</td>\n",
       "      <td>6923.0</td>\n",
       "    </tr>\n",
       "    <tr>\n",
       "      <th>306</th>\n",
       "      <td>1.02</td>\n",
       "      <td>5</td>\n",
       "      <td>5</td>\n",
       "      <td>3</td>\n",
       "      <td>6271.3</td>\n",
       "    </tr>\n",
       "    <tr>\n",
       "      <th>307</th>\n",
       "      <td>1.09</td>\n",
       "      <td>6</td>\n",
       "      <td>3</td>\n",
       "      <td>3</td>\n",
       "      <td>6374.9</td>\n",
       "    </tr>\n",
       "  </tbody>\n",
       "</table>\n",
       "</div>"
      ],
      "text/plain": [
       "     Carat  Colour  Clarity  Lab  Price ($US)\n",
       "298   1.01       4        3    3       6995.1\n",
       "299   1.01       4        5    3       6505.1\n",
       "300   1.01       5        3    3       6603.1\n",
       "301   1.01       5        4    3       6407.1\n",
       "302   1.01       6        2    3       6211.1\n",
       "303   1.01       6        4    3       5722.5\n",
       "304   1.02       3        3    3       7557.2\n",
       "305   1.06       5        3    3       6923.0\n",
       "306   1.02       5        5    3       6271.3\n",
       "307   1.09       6        3    3       6374.9"
      ]
     },
     "execution_count": 12,
     "metadata": {},
     "output_type": "execute_result"
    }
   ],
   "source": [
    "diamantes.tail(10)"
   ]
  },
  {
   "cell_type": "markdown",
   "metadata": {},
   "source": [
    "### 2. Datos"
   ]
  },
  {
   "cell_type": "markdown",
   "metadata": {},
   "source": [
    "#### 2.1 En el archivo \"Diamonds are forever.csv\", hay 308 filas y 5 columnas; en total, son 1540 datos"
   ]
  },
  {
   "cell_type": "code",
   "execution_count": 15,
   "metadata": {},
   "outputs": [
    {
     "data": {
      "text/plain": [
       "Carat          308\n",
       "Colour         308\n",
       "Clarity        308\n",
       "Lab            308\n",
       "Price ($US)    308\n",
       "dtype: int64"
      ]
     },
     "execution_count": 15,
     "metadata": {},
     "output_type": "execute_result"
    }
   ],
   "source": [
    "diamantes.count()"
   ]
  },
  {
   "cell_type": "markdown",
   "metadata": {},
   "source": [
    "#### 2.2 Aquí se puede observar que no hay datos nulos"
   ]
  },
  {
   "cell_type": "code",
   "execution_count": 13,
   "metadata": {},
   "outputs": [
    {
     "data": {
      "text/plain": [
       "Carat          0\n",
       "Colour         0\n",
       "Clarity        0\n",
       "Lab            0\n",
       "Price ($US)    0\n",
       "dtype: int64"
      ]
     },
     "execution_count": 13,
     "metadata": {},
     "output_type": "execute_result"
    }
   ],
   "source": [
    "diamantes.isnull().sum()"
   ]
  },
  {
   "cell_type": "markdown",
   "metadata": {},
   "source": [
    "#### 2.3 Valores máximos y mínimos para cada columna/variable"
   ]
  },
  {
   "cell_type": "code",
   "execution_count": 32,
   "metadata": {},
   "outputs": [
    {
     "data": {
      "text/plain": [
       "Carat              1.1\n",
       "Colour             6.0\n",
       "Clarity            5.0\n",
       "Lab                3.0\n",
       "Price ($US)    11205.6\n",
       "dtype: float64"
      ]
     },
     "execution_count": 32,
     "metadata": {},
     "output_type": "execute_result"
    }
   ],
   "source": [
    "diamantes.max()"
   ]
  },
  {
   "cell_type": "code",
   "execution_count": 33,
   "metadata": {},
   "outputs": [
    {
     "data": {
      "text/plain": [
       "Carat            0.18\n",
       "Colour           1.00\n",
       "Clarity          1.00\n",
       "Lab              1.00\n",
       "Price ($US)    446.60\n",
       "dtype: float64"
      ]
     },
     "execution_count": 33,
     "metadata": {},
     "output_type": "execute_result"
    }
   ],
   "source": [
    "diamantes.min()"
   ]
  },
  {
   "cell_type": "markdown",
   "metadata": {},
   "source": [
    "#### Las variables del estudio de diamantes son las siguientes:\n",
    "|Variable|Tipo|Descripción|\n",
    "|--------|----|-----------|\n",
    "|Carat|Cuantitativa|Peso del diamante en carats|\n",
    "|Colour|Cualitativa|Valor numérico de la calidad del color; va de 1 (sin color) a 6 (casi sin color)|\n",
    "|Clarity|Cualitativa|Valor numérico de la claridad; va de 1 (perfecto) a 5 (inclusiones muy pequeñas)|\n",
    "|Lab|Cualitativa|Laboratorio que evaluó el diamante, en orden de 1 a 3: GEM=Gemological Institute of America, INT=International Gemmological Institute, DHC=Diamond High Council|\n",
    "|Price ($US)|Cuantitativa|Valor del diamante|"
   ]
  },
  {
   "cell_type": "code",
   "execution_count": 79,
   "metadata": {},
   "outputs": [
    {
     "data": {
      "text/plain": [
       "Carat             0.630909\n",
       "Colour            3.750000\n",
       "Clarity           3.152597\n",
       "Lab               1.766234\n",
       "Price ($US)    3513.638636\n",
       "dtype: float64"
      ]
     },
     "execution_count": 79,
     "metadata": {},
     "output_type": "execute_result"
    }
   ],
   "source": [
    "diamantes.mean()"
   ]
  },
  {
   "cell_type": "code",
   "execution_count": 80,
   "metadata": {},
   "outputs": [
    {
     "data": {
      "text/plain": [
       "Carat             0.62\n",
       "Colour            4.00\n",
       "Clarity           3.00\n",
       "Lab               2.00\n",
       "Price ($US)    2950.50\n",
       "dtype: float64"
      ]
     },
     "execution_count": 80,
     "metadata": {},
     "output_type": "execute_result"
    }
   ],
   "source": [
    "diamantes.median()"
   ]
  },
  {
   "cell_type": "code",
   "execution_count": 81,
   "metadata": {},
   "outputs": [
    {
     "data": {
      "text/plain": [
       "Carat             0.277183\n",
       "Colour            1.402360\n",
       "Clarity           1.293718\n",
       "Lab               0.833283\n",
       "Price ($US)    2382.181001\n",
       "dtype: float64"
      ]
     },
     "execution_count": 81,
     "metadata": {},
     "output_type": "execute_result"
    }
   ],
   "source": [
    "diamantes.std()"
   ]
  },
  {
   "cell_type": "markdown",
   "metadata": {},
   "source": [
    "### 3. Gráficos"
   ]
  },
  {
   "cell_type": "markdown",
   "metadata": {},
   "source": [
    "#### 3.1 Mapa de calor"
   ]
  },
  {
   "cell_type": "code",
   "execution_count": 8,
   "metadata": {},
   "outputs": [
    {
     "data": {
      "text/plain": [
       "<AxesSubplot:>"
      ]
     },
     "execution_count": 8,
     "metadata": {},
     "output_type": "execute_result"
    },
    {
     "data": {
      "image/png": "[encoded data removed]",
      "text/plain": [
       "<Figure size 432x288 with 2 Axes>"
      ]
     },
     "metadata": {
      "needs_background": "light"
     },
     "output_type": "display_data"
    }
   ],
   "source": [
    "matriz_correlacion = diamantes.corr().round(2)\n",
    "sns.heatmap(data=matriz_correlacion, annot=True)"
   ]
  },
  {
   "cell_type": "markdown",
   "metadata": {},
   "source": [
    "#### 3.2 Boxplots\n",
    "Decidí hacer tres porque el rango del peso en carats y del precio en dólares estadounidenses eran muy diferentes, entonces hice uno para cada uno (Las variables Colour, Clarity y Lab tienen rangos similares, por lo que las deje en una misma figura)."
   ]
  },
  {
   "cell_type": "code",
   "execution_count": 9,
   "metadata": {},
   "outputs": [
    {
     "data": {
      "image/png": "[encoded data removed]",
      "text/plain": [
       "<Figure size 720x504 with 1 Axes>"
      ]
     },
     "metadata": {
      "needs_background": "light"
     },
     "output_type": "display_data"
    }
   ],
   "source": [
    "fig = plt.figure(figsize=(10,7))\n",
    "\n",
    "plt.boxplot(diamantes['Carat'], notch=True)\n",
    "plt.title(\"Boxplot de carats\")\n",
    "plt.show()"
   ]
  },
  {
   "cell_type": "code",
   "execution_count": 12,
   "metadata": {},
   "outputs": [
    {
     "data": {
      "image/png": "[encoded data removed]",
      "text/plain": [
       "<Figure size 720x504 with 1 Axes>"
      ]
     },
     "metadata": {
      "needs_background": "light"
     },
     "output_type": "display_data"
    }
   ],
   "source": [
    "datos = [diamantes['Colour'],diamantes['Clarity'],diamantes['Lab']]\n",
    "\n",
    "fig = plt.figure(figsize=(10,7))\n",
    "ax = fig.add_axes([0,0,1,1])\n",
    "\n",
    "box = ax.boxplot(datos, notch=True)\n",
    "plt.title(\"Boxplots de color, claridad y laboratorios\")\n",
    "plt.show()"
   ]
  },
  {
   "cell_type": "code",
   "execution_count": 13,
   "metadata": {},
   "outputs": [
    {
     "data": {
      "image/png": "[encoded data removed]",
      "text/plain": [
       "<Figure size 720x504 with 1 Axes>"
      ]
     },
     "metadata": {
      "needs_background": "light"
     },
     "output_type": "display_data"
    }
   ],
   "source": [
    "fig = plt.figure(figsize=(10,7))\n",
    "\n",
    "plt.boxplot(diamantes['Price ($US)'], notch=True)\n",
    "plt.title(\"Boxplot del precio en dólares\")\n",
    "\n",
    "plt.show()"
   ]
  },
  {
   "cell_type": "markdown",
   "metadata": {},
   "source": [
    "#### 3.3 Histogramas\n",
    "De datos cualitativos."
   ]
  },
  {
   "cell_type": "code",
   "execution_count": 71,
   "metadata": {},
   "outputs": [
    {
     "data": {
      "image/png": "[encoded data removed]",
      "text/plain": [
       "<Figure size 432x288 with 1 Axes>"
      ]
     },
     "metadata": {
      "needs_background": "light"
     },
     "output_type": "display_data"
    }
   ],
   "source": [
    "colores = diamantes['Colour']\n",
    "histogram = Counter(min(color // 1 * 1, 6) for color in colores)\n",
    "\n",
    "plt.bar([x for x in histogram.keys()],  # Desplazar por 5 las barras a la derecha\n",
    "        histogram.values(),                 # Darle la altura correcta a cada barra\n",
    "        1,                                 # Darle un ancho de 10 a cada barra\n",
    "        edgecolor=(0, 0, 0))                # Líneas negras para cada barra\n",
    "\n",
    "plt.axis([0, 7, 0, 90])                  # Eje x desde -5 a 105,\n",
    "                                           # Eje y desde 0 a 5\n",
    "\n",
    "plt.xticks([i for i in range(7)])    # Etiquetas de X de 0, 10, ..., 100\n",
    "plt.xlabel(\"Color\")                        # Etiqueta del eje x\n",
    "plt.ylabel(\"# de diamantes\")             # Etiqueta del eje y\n",
    "plt.title(\"Distribución de color de diamantes\")# Título del histograma\n",
    "plt.show()"
   ]
  },
  {
   "cell_type": "code",
   "execution_count": 16,
   "metadata": {},
   "outputs": [
    {
     "data": {
      "image/png": "[encoded data removed]",
      "text/plain": [
       "<Figure size 432x288 with 1 Axes>"
      ]
     },
     "metadata": {
      "needs_background": "light"
     },
     "output_type": "display_data"
    }
   ],
   "source": [
    "claridades = diamantes['Clarity']\n",
    "histogram = Counter(min(claridad // 1 * 1, 5) for claridad in claridades)\n",
    "\n",
    "plt.bar([x for x in histogram.keys()],  # Desplazar por 5 las barras a la derecha\n",
    "        histogram.values(),                 # Darle la altura correcta a cada barra\n",
    "        1,                                 # Darle un ancho de 10 a cada barra\n",
    "        edgecolor=(0, 0, 0))                # Líneas negras para cada barra\n",
    "\n",
    "plt.axis([0, 6, 0, 90])                  # Eje x desde -5 a 105,\n",
    "                                           # Eje y desde 0 a 5\n",
    "\n",
    "plt.xticks([i for i in range(6)])    # Etiquetas de X de 0, 10, ..., 100\n",
    "plt.xlabel(\"Claridad\")                        # Etiqueta del eje x\n",
    "plt.ylabel(\"# de diamantes\")             # Etiqueta del eje y\n",
    "plt.title(\"Distribución de color de diamantes\")# Título del histograma\n",
    "plt.show()"
   ]
  },
  {
   "cell_type": "code",
   "execution_count": 15,
   "metadata": {},
   "outputs": [
    {
     "data": {
      "image/png": "[encoded data removed]",
      "text/plain": [
       "<Figure size 432x288 with 1 Axes>"
      ]
     },
     "metadata": {
      "needs_background": "light"
     },
     "output_type": "display_data"
    }
   ],
   "source": [
    "labs = diamantes['Lab']\n",
    "histogram = Counter(min(lab // 1 * 1, 5) for lab in labs)\n",
    "\n",
    "plt.bar([x for x in histogram.keys()],  # Desplazar por 5 las barras a la derecha\n",
    "        histogram.values(),                 # Darle la altura correcta a cada barra\n",
    "        1,                                 # Darle un ancho de 10 a cada barra\n",
    "        edgecolor=(0, 0, 0))                # Líneas negras para cada barra\n",
    "\n",
    "plt.axis([0, 4, 0, 160])                  # Eje x desde -5 a 105,\n",
    "                                           # Eje y desde 0 a 5\n",
    "\n",
    "plt.xticks([i for i in range(4)])    # Etiquetas de X de 0, 10, ..., 100\n",
    "plt.xlabel(\"Laboratorio\")                        # Etiqueta del eje x\n",
    "plt.ylabel(\"# de diamantes\")             # Etiqueta del eje y\n",
    "plt.title(\"Distribución de color de diamantes\")# Título del histograma\n",
    "plt.show()"
   ]
  },
  {
   "cell_type": "code",
   "execution_count": null,
   "metadata": {},
   "outputs": [],
   "source": []
  }
 ],
 "metadata": {
  "kernelspec": {
   "display_name": "Python 3",
   "language": "python",
   "name": "python3"
  },
  "language_info": {
   "codemirror_mode": {
    "name": "ipython",
    "version": 3
   },
   "file_extension": ".py",
   "mimetype": "text/x-python",
   "name": "python",
   "nbconvert_exporter": "python",
   "pygments_lexer": "ipython3",
   "version": "3.8.5"
  }
 },
 "nbformat": 4,
 "nbformat_minor": 4
}
